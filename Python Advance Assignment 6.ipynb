{
 "cells": [
  {
   "cell_type": "code",
   "execution_count": null,
   "id": "79d356ac-7714-4edc-9948-75c5008fc373",
   "metadata": {},
   "outputs": [],
   "source": [
    "#1. Describe three applications for exception processing.\n",
    "\n",
    "Ans. Exception Processing is important to find exceptions that causes the runtime error. \n",
    "As runtime errors Halt the program execution when exception occurs.\n",
    "\n",
    "Exception Processing is used in Various Applications of which few examples are:\n",
    "\n",
    "Checking Appropriate use of input in an application\n",
    "Checking for Arithmetic exceptions in mathematical executions\n",
    "Checking File I/O exceptions during File handling"
   ]
  },
  {
   "cell_type": "code",
   "execution_count": null,
   "id": "e128a740-4ae3-47d0-ba04-81988926fc76",
   "metadata": {},
   "outputs": [],
   "source": [
    "#2. What happens if you don't do something extra to treat an exception?\n",
    "\n",
    "Ans. If Exceptions are not handled flow of program will be broken during the run time which might lead to a abnormal termination of the program. \n",
    "Inshort inability of program to handle exceptions will result in crashing of program."
   ]
  },
  {
   "cell_type": "code",
   "execution_count": null,
   "id": "7c50a6d1-d867-415b-b182-e0fe48f520a7",
   "metadata": {},
   "outputs": [],
   "source": [
    "#3. What are your options for recovering from an exception in your script?\n",
    "\n",
    "Ans. Python provides try and except statements for recovering from an exception in your script."
   ]
  },
  {
   "cell_type": "code",
   "execution_count": null,
   "id": "f150818b-e820-4ab6-a9f6-f10e21d8391b",
   "metadata": {},
   "outputs": [],
   "source": [
    "#4. raise and assert are two methods that can be used to trigger manual exceptions in your script.\n",
    "\n",
    "Ans. raise method triggers an exception if condition provided to it turns out to be True.\n",
    "assert will let the program to continue execution if condition provided to it turns out to be True else exception will be raised."
   ]
  },
  {
   "cell_type": "code",
   "execution_count": null,
   "id": "45d8a76f-64c9-4dad-a018-a9c850019b84",
   "metadata": {},
   "outputs": [],
   "source": [
    "#5. Identify two methods for specifying actions to be executed at termination time, regardless of whether or not an exception exists.\n",
    "\n",
    "\n",
    "Ans. Python Provides else and finally blocks for specifying actions to be executed at termination time, regardless of whether an exceptions exists or not."
   ]
  }
 ],
 "metadata": {
  "kernelspec": {
   "display_name": "Python 3 (ipykernel)",
   "language": "python",
   "name": "python3"
  },
  "language_info": {
   "codemirror_mode": {
    "name": "ipython",
    "version": 3
   },
   "file_extension": ".py",
   "mimetype": "text/x-python",
   "name": "python",
   "nbconvert_exporter": "python",
   "pygments_lexer": "ipython3",
   "version": "3.10.6"
  }
 },
 "nbformat": 4,
 "nbformat_minor": 5
}
